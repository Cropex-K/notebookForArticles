{
 "cells": [
  {
   "cell_type": "code",
   "execution_count": 1,
   "id": "cb1d03f3",
   "metadata": {},
   "outputs": [],
   "source": [
    "import numpy as np\n",
    "import pandas as pd\n",
    "import matplotlib.pyplot as plt\n",
    "from sklearn import metrics\n",
    "from sklearn.model_selection import train_test_split\n",
    "from sklearn.linear_model import LogisticRegression\n",
    "from sklearn.model_selection import GridSearchCV\n",
    "# https://www.kaggle.com/datasets/abrambeyer/openintro-possum"
   ]
  },
  {
   "cell_type": "markdown",
   "id": "abb6cf14",
   "metadata": {},
   "source": [
    "# Немного теории"
   ]
  },
  {
   "cell_type": "code",
   "execution_count": 2,
   "id": "433459c9",
   "metadata": {},
   "outputs": [
    {
     "data": {
      "image/png": "[encoded data removed]",
      "text/plain": [
       "<Figure size 720x432 with 1 Axes>"
      ]
     },
     "metadata": {
      "needs_background": "light"
     },
     "output_type": "display_data"
    }
   ],
   "source": [
    "# Напоминание, как выглядит логит-функция\n",
    "import math\n",
    "\n",
    "# задаем переменные через функцию\n",
    "z = np.linspace(-10, 10, 20)\n",
    "sigma = [1/(1 + math.exp(-i)) for i in z]\n",
    "\n",
    "# отрисовываем логит-функцию\n",
    "fig, ax = plt.subplots(figsize=(10, 6))\n",
    "ax.plot(z, sigma)\n",
    "plt.title('Логистическая функция', fontstyle='italic', fontsize=25)\n",
    "ax.text(-10, 0.8, r'$\\sigma(z) = \\frac{1}{1 + e^{-z}}$', fontsize=20)\n",
    "plt.show()"
   ]
  },
  {
   "cell_type": "markdown",
   "id": "0ea7cc37",
   "metadata": {},
   "source": [
    "# Загрузка и предобработка датасета"
   ]
  },
  {
   "cell_type": "code",
   "execution_count": 3,
   "id": "db0c0730",
   "metadata": {},
   "outputs": [
    {
     "data": {
      "text/html": [
       "<div>\n",
       "<style scoped>\n",
       "    .dataframe tbody tr th:only-of-type {\n",
       "        vertical-align: middle;\n",
       "    }\n",
       "\n",
       "    .dataframe tbody tr th {\n",
       "        vertical-align: top;\n",
       "    }\n",
       "\n",
       "    .dataframe thead th {\n",
       "        text-align: right;\n",
       "    }\n",
       "</style>\n",
       "<table border=\"1\" class=\"dataframe\">\n",
       "  <thead>\n",
       "    <tr style=\"text-align: right;\">\n",
       "      <th></th>\n",
       "      <th>case</th>\n",
       "      <th>site</th>\n",
       "      <th>Pop</th>\n",
       "      <th>sex</th>\n",
       "      <th>age</th>\n",
       "      <th>hdlngth</th>\n",
       "      <th>skullw</th>\n",
       "      <th>totlngth</th>\n",
       "      <th>taill</th>\n",
       "      <th>footlgth</th>\n",
       "      <th>earconch</th>\n",
       "      <th>eye</th>\n",
       "      <th>chest</th>\n",
       "      <th>belly</th>\n",
       "    </tr>\n",
       "  </thead>\n",
       "  <tbody>\n",
       "    <tr>\n",
       "      <th>0</th>\n",
       "      <td>1</td>\n",
       "      <td>1</td>\n",
       "      <td>Vic</td>\n",
       "      <td>m</td>\n",
       "      <td>8.0</td>\n",
       "      <td>94.1</td>\n",
       "      <td>60.4</td>\n",
       "      <td>89.0</td>\n",
       "      <td>36.0</td>\n",
       "      <td>74.5</td>\n",
       "      <td>54.5</td>\n",
       "      <td>15.2</td>\n",
       "      <td>28.0</td>\n",
       "      <td>36.0</td>\n",
       "    </tr>\n",
       "    <tr>\n",
       "      <th>1</th>\n",
       "      <td>2</td>\n",
       "      <td>1</td>\n",
       "      <td>Vic</td>\n",
       "      <td>f</td>\n",
       "      <td>6.0</td>\n",
       "      <td>92.5</td>\n",
       "      <td>57.6</td>\n",
       "      <td>91.5</td>\n",
       "      <td>36.5</td>\n",
       "      <td>72.5</td>\n",
       "      <td>51.2</td>\n",
       "      <td>16.0</td>\n",
       "      <td>28.5</td>\n",
       "      <td>33.0</td>\n",
       "    </tr>\n",
       "    <tr>\n",
       "      <th>2</th>\n",
       "      <td>3</td>\n",
       "      <td>1</td>\n",
       "      <td>Vic</td>\n",
       "      <td>f</td>\n",
       "      <td>6.0</td>\n",
       "      <td>94.0</td>\n",
       "      <td>60.0</td>\n",
       "      <td>95.5</td>\n",
       "      <td>39.0</td>\n",
       "      <td>75.4</td>\n",
       "      <td>51.9</td>\n",
       "      <td>15.5</td>\n",
       "      <td>30.0</td>\n",
       "      <td>34.0</td>\n",
       "    </tr>\n",
       "    <tr>\n",
       "      <th>3</th>\n",
       "      <td>4</td>\n",
       "      <td>1</td>\n",
       "      <td>Vic</td>\n",
       "      <td>f</td>\n",
       "      <td>6.0</td>\n",
       "      <td>93.2</td>\n",
       "      <td>57.1</td>\n",
       "      <td>92.0</td>\n",
       "      <td>38.0</td>\n",
       "      <td>76.1</td>\n",
       "      <td>52.2</td>\n",
       "      <td>15.2</td>\n",
       "      <td>28.0</td>\n",
       "      <td>34.0</td>\n",
       "    </tr>\n",
       "    <tr>\n",
       "      <th>4</th>\n",
       "      <td>5</td>\n",
       "      <td>1</td>\n",
       "      <td>Vic</td>\n",
       "      <td>f</td>\n",
       "      <td>2.0</td>\n",
       "      <td>91.5</td>\n",
       "      <td>56.3</td>\n",
       "      <td>85.5</td>\n",
       "      <td>36.0</td>\n",
       "      <td>71.0</td>\n",
       "      <td>53.2</td>\n",
       "      <td>15.1</td>\n",
       "      <td>28.5</td>\n",
       "      <td>33.0</td>\n",
       "    </tr>\n",
       "  </tbody>\n",
       "</table>\n",
       "</div>"
      ],
      "text/plain": [
       "   case  site  Pop sex  age  hdlngth  skullw  totlngth  taill  footlgth  \\\n",
       "0     1     1  Vic   m  8.0     94.1    60.4      89.0   36.0      74.5   \n",
       "1     2     1  Vic   f  6.0     92.5    57.6      91.5   36.5      72.5   \n",
       "2     3     1  Vic   f  6.0     94.0    60.0      95.5   39.0      75.4   \n",
       "3     4     1  Vic   f  6.0     93.2    57.1      92.0   38.0      76.1   \n",
       "4     5     1  Vic   f  2.0     91.5    56.3      85.5   36.0      71.0   \n",
       "\n",
       "   earconch   eye  chest  belly  \n",
       "0      54.5  15.2   28.0   36.0  \n",
       "1      51.2  16.0   28.5   33.0  \n",
       "2      51.9  15.5   30.0   34.0  \n",
       "3      52.2  15.2   28.0   34.0  \n",
       "4      53.2  15.1   28.5   33.0  "
      ]
     },
     "execution_count": 3,
     "metadata": {},
     "output_type": "execute_result"
    }
   ],
   "source": [
    "df_possum = pd.read_csv(\"possum.csv\")\n",
    "df_possum.head()"
   ]
  },
  {
   "cell_type": "code",
   "execution_count": 4,
   "id": "458497a3",
   "metadata": {},
   "outputs": [],
   "source": [
    "# бинаризируем переменные\n",
    "df_possum.sex = df_possum.sex.map({'m': 1, 'f': 0})\n",
    "df_possum.Pop = df_possum.Pop.map({'Vic': 1, 'other': 0})"
   ]
  },
  {
   "cell_type": "code",
   "execution_count": 5,
   "id": "6ad1290b",
   "metadata": {},
   "outputs": [
    {
     "data": {
      "text/plain": [
       "case        False\n",
       "site        False\n",
       "Pop         False\n",
       "sex         False\n",
       "age          True\n",
       "hdlngth     False\n",
       "skullw      False\n",
       "totlngth    False\n",
       "taill       False\n",
       "footlgth     True\n",
       "earconch    False\n",
       "eye         False\n",
       "chest       False\n",
       "belly       False\n",
       "dtype: bool"
      ]
     },
     "execution_count": 5,
     "metadata": {},
     "output_type": "execute_result"
    }
   ],
   "source": [
    "# проверяем на Nan\n",
    "df_possum.isna().any()"
   ]
  },
  {
   "cell_type": "code",
   "execution_count": 6,
   "id": "9dad443d",
   "metadata": {},
   "outputs": [
    {
     "data": {
      "text/html": [
       "<div>\n",
       "<style scoped>\n",
       "    .dataframe tbody tr th:only-of-type {\n",
       "        vertical-align: middle;\n",
       "    }\n",
       "\n",
       "    .dataframe tbody tr th {\n",
       "        vertical-align: top;\n",
       "    }\n",
       "\n",
       "    .dataframe thead th {\n",
       "        text-align: right;\n",
       "    }\n",
       "</style>\n",
       "<table border=\"1\" class=\"dataframe\">\n",
       "  <thead>\n",
       "    <tr style=\"text-align: right;\">\n",
       "      <th></th>\n",
       "      <th>case</th>\n",
       "      <th>site</th>\n",
       "      <th>Pop</th>\n",
       "      <th>sex</th>\n",
       "      <th>age</th>\n",
       "      <th>hdlngth</th>\n",
       "      <th>skullw</th>\n",
       "      <th>totlngth</th>\n",
       "      <th>taill</th>\n",
       "      <th>footlgth</th>\n",
       "      <th>earconch</th>\n",
       "      <th>eye</th>\n",
       "      <th>chest</th>\n",
       "      <th>belly</th>\n",
       "    </tr>\n",
       "  </thead>\n",
       "  <tbody>\n",
       "    <tr>\n",
       "      <th>0</th>\n",
       "      <td>1</td>\n",
       "      <td>1</td>\n",
       "      <td>1</td>\n",
       "      <td>1</td>\n",
       "      <td>8.0</td>\n",
       "      <td>94.1</td>\n",
       "      <td>60.4</td>\n",
       "      <td>89.0</td>\n",
       "      <td>36.0</td>\n",
       "      <td>74.5</td>\n",
       "      <td>54.5</td>\n",
       "      <td>15.2</td>\n",
       "      <td>28.0</td>\n",
       "      <td>36.0</td>\n",
       "    </tr>\n",
       "    <tr>\n",
       "      <th>1</th>\n",
       "      <td>2</td>\n",
       "      <td>1</td>\n",
       "      <td>1</td>\n",
       "      <td>0</td>\n",
       "      <td>6.0</td>\n",
       "      <td>92.5</td>\n",
       "      <td>57.6</td>\n",
       "      <td>91.5</td>\n",
       "      <td>36.5</td>\n",
       "      <td>72.5</td>\n",
       "      <td>51.2</td>\n",
       "      <td>16.0</td>\n",
       "      <td>28.5</td>\n",
       "      <td>33.0</td>\n",
       "    </tr>\n",
       "    <tr>\n",
       "      <th>2</th>\n",
       "      <td>3</td>\n",
       "      <td>1</td>\n",
       "      <td>1</td>\n",
       "      <td>0</td>\n",
       "      <td>6.0</td>\n",
       "      <td>94.0</td>\n",
       "      <td>60.0</td>\n",
       "      <td>95.5</td>\n",
       "      <td>39.0</td>\n",
       "      <td>75.4</td>\n",
       "      <td>51.9</td>\n",
       "      <td>15.5</td>\n",
       "      <td>30.0</td>\n",
       "      <td>34.0</td>\n",
       "    </tr>\n",
       "    <tr>\n",
       "      <th>3</th>\n",
       "      <td>4</td>\n",
       "      <td>1</td>\n",
       "      <td>1</td>\n",
       "      <td>0</td>\n",
       "      <td>6.0</td>\n",
       "      <td>93.2</td>\n",
       "      <td>57.1</td>\n",
       "      <td>92.0</td>\n",
       "      <td>38.0</td>\n",
       "      <td>76.1</td>\n",
       "      <td>52.2</td>\n",
       "      <td>15.2</td>\n",
       "      <td>28.0</td>\n",
       "      <td>34.0</td>\n",
       "    </tr>\n",
       "    <tr>\n",
       "      <th>4</th>\n",
       "      <td>5</td>\n",
       "      <td>1</td>\n",
       "      <td>1</td>\n",
       "      <td>0</td>\n",
       "      <td>2.0</td>\n",
       "      <td>91.5</td>\n",
       "      <td>56.3</td>\n",
       "      <td>85.5</td>\n",
       "      <td>36.0</td>\n",
       "      <td>71.0</td>\n",
       "      <td>53.2</td>\n",
       "      <td>15.1</td>\n",
       "      <td>28.5</td>\n",
       "      <td>33.0</td>\n",
       "    </tr>\n",
       "  </tbody>\n",
       "</table>\n",
       "</div>"
      ],
      "text/plain": [
       "   case  site  Pop  sex  age  hdlngth  skullw  totlngth  taill  footlgth  \\\n",
       "0     1     1    1    1  8.0     94.1    60.4      89.0   36.0      74.5   \n",
       "1     2     1    1    0  6.0     92.5    57.6      91.5   36.5      72.5   \n",
       "2     3     1    1    0  6.0     94.0    60.0      95.5   39.0      75.4   \n",
       "3     4     1    1    0  6.0     93.2    57.1      92.0   38.0      76.1   \n",
       "4     5     1    1    0  2.0     91.5    56.3      85.5   36.0      71.0   \n",
       "\n",
       "   earconch   eye  chest  belly  \n",
       "0      54.5  15.2   28.0   36.0  \n",
       "1      51.2  16.0   28.5   33.0  \n",
       "2      51.9  15.5   30.0   34.0  \n",
       "3      52.2  15.2   28.0   34.0  \n",
       "4      53.2  15.1   28.5   33.0  "
      ]
     },
     "execution_count": 6,
     "metadata": {},
     "output_type": "execute_result"
    }
   ],
   "source": [
    "# вставляем пропущенные значения средними по столбцу\n",
    "df_possum.age.fillna(df_possum['age'].mean(), inplace=True)\n",
    "df_possum.footlgth.fillna(df_possum['footlgth'].mean(), inplace=True)\n",
    "df_possum.head()"
   ]
  },
  {
   "cell_type": "markdown",
   "id": "ac695a7e",
   "metadata": {},
   "source": [
    "# Логистическая регрессия"
   ]
  },
  {
   "cell_type": "markdown",
   "id": "2b825d56",
   "metadata": {},
   "source": [
    "## Определяем пол"
   ]
  },
  {
   "cell_type": "code",
   "execution_count": 7,
   "id": "39b571ff",
   "metadata": {},
   "outputs": [
    {
     "data": {
      "text/html": [
       "<div>\n",
       "<style scoped>\n",
       "    .dataframe tbody tr th:only-of-type {\n",
       "        vertical-align: middle;\n",
       "    }\n",
       "\n",
       "    .dataframe tbody tr th {\n",
       "        vertical-align: top;\n",
       "    }\n",
       "\n",
       "    .dataframe thead th {\n",
       "        text-align: right;\n",
       "    }\n",
       "</style>\n",
       "<table border=\"1\" class=\"dataframe\">\n",
       "  <thead>\n",
       "    <tr style=\"text-align: right;\">\n",
       "      <th></th>\n",
       "      <th>sex</th>\n",
       "      <th>hdlngth</th>\n",
       "      <th>skullw</th>\n",
       "      <th>totlngth</th>\n",
       "      <th>taill</th>\n",
       "      <th>footlgth</th>\n",
       "      <th>earconch</th>\n",
       "      <th>eye</th>\n",
       "      <th>chest</th>\n",
       "      <th>belly</th>\n",
       "    </tr>\n",
       "  </thead>\n",
       "  <tbody>\n",
       "    <tr>\n",
       "      <th>0</th>\n",
       "      <td>1</td>\n",
       "      <td>94.1</td>\n",
       "      <td>60.4</td>\n",
       "      <td>89.0</td>\n",
       "      <td>36.0</td>\n",
       "      <td>74.5</td>\n",
       "      <td>54.5</td>\n",
       "      <td>15.2</td>\n",
       "      <td>28.0</td>\n",
       "      <td>36.0</td>\n",
       "    </tr>\n",
       "    <tr>\n",
       "      <th>1</th>\n",
       "      <td>0</td>\n",
       "      <td>92.5</td>\n",
       "      <td>57.6</td>\n",
       "      <td>91.5</td>\n",
       "      <td>36.5</td>\n",
       "      <td>72.5</td>\n",
       "      <td>51.2</td>\n",
       "      <td>16.0</td>\n",
       "      <td>28.5</td>\n",
       "      <td>33.0</td>\n",
       "    </tr>\n",
       "    <tr>\n",
       "      <th>2</th>\n",
       "      <td>0</td>\n",
       "      <td>94.0</td>\n",
       "      <td>60.0</td>\n",
       "      <td>95.5</td>\n",
       "      <td>39.0</td>\n",
       "      <td>75.4</td>\n",
       "      <td>51.9</td>\n",
       "      <td>15.5</td>\n",
       "      <td>30.0</td>\n",
       "      <td>34.0</td>\n",
       "    </tr>\n",
       "    <tr>\n",
       "      <th>3</th>\n",
       "      <td>0</td>\n",
       "      <td>93.2</td>\n",
       "      <td>57.1</td>\n",
       "      <td>92.0</td>\n",
       "      <td>38.0</td>\n",
       "      <td>76.1</td>\n",
       "      <td>52.2</td>\n",
       "      <td>15.2</td>\n",
       "      <td>28.0</td>\n",
       "      <td>34.0</td>\n",
       "    </tr>\n",
       "    <tr>\n",
       "      <th>4</th>\n",
       "      <td>0</td>\n",
       "      <td>91.5</td>\n",
       "      <td>56.3</td>\n",
       "      <td>85.5</td>\n",
       "      <td>36.0</td>\n",
       "      <td>71.0</td>\n",
       "      <td>53.2</td>\n",
       "      <td>15.1</td>\n",
       "      <td>28.5</td>\n",
       "      <td>33.0</td>\n",
       "    </tr>\n",
       "  </tbody>\n",
       "</table>\n",
       "</div>"
      ],
      "text/plain": [
       "   sex  hdlngth  skullw  totlngth  taill  footlgth  earconch   eye  chest  \\\n",
       "0    1     94.1    60.4      89.0   36.0      74.5      54.5  15.2   28.0   \n",
       "1    0     92.5    57.6      91.5   36.5      72.5      51.2  16.0   28.5   \n",
       "2    0     94.0    60.0      95.5   39.0      75.4      51.9  15.5   30.0   \n",
       "3    0     93.2    57.1      92.0   38.0      76.1      52.2  15.2   28.0   \n",
       "4    0     91.5    56.3      85.5   36.0      71.0      53.2  15.1   28.5   \n",
       "\n",
       "   belly  \n",
       "0   36.0  \n",
       "1   33.0  \n",
       "2   34.0  \n",
       "3   34.0  \n",
       "4   33.0  "
      ]
     },
     "execution_count": 7,
     "metadata": {},
     "output_type": "execute_result"
    }
   ],
   "source": [
    "# удаляем столбцы, которые не нужны для дальнейшего анализа\n",
    "df_possum_sex = df_possum.drop(['case', 'Pop', 'age', 'site'], axis=1)\n",
    "df_possum_sex.head()"
   ]
  },
  {
   "cell_type": "code",
   "execution_count": 8,
   "id": "dee5e8d7",
   "metadata": {},
   "outputs": [
    {
     "data": {
      "text/html": [
       "<div>\n",
       "<style scoped>\n",
       "    .dataframe tbody tr th:only-of-type {\n",
       "        vertical-align: middle;\n",
       "    }\n",
       "\n",
       "    .dataframe tbody tr th {\n",
       "        vertical-align: top;\n",
       "    }\n",
       "\n",
       "    .dataframe thead th {\n",
       "        text-align: right;\n",
       "    }\n",
       "</style>\n",
       "<table border=\"1\" class=\"dataframe\">\n",
       "  <thead>\n",
       "    <tr style=\"text-align: right;\">\n",
       "      <th></th>\n",
       "      <th>hdlngth</th>\n",
       "      <th>skullw</th>\n",
       "      <th>totlngth</th>\n",
       "      <th>taill</th>\n",
       "      <th>footlgth</th>\n",
       "      <th>earconch</th>\n",
       "      <th>eye</th>\n",
       "      <th>chest</th>\n",
       "      <th>belly</th>\n",
       "    </tr>\n",
       "  </thead>\n",
       "  <tbody>\n",
       "    <tr>\n",
       "      <th>0</th>\n",
       "      <td>0.418967</td>\n",
       "      <td>1.129414</td>\n",
       "      <td>0.443456</td>\n",
       "      <td>-0.515236</td>\n",
       "      <td>1.381091</td>\n",
       "      <td>1.549925</td>\n",
       "      <td>0.146468</td>\n",
       "      <td>0.488855</td>\n",
       "      <td>1.235889</td>\n",
       "    </tr>\n",
       "    <tr>\n",
       "      <th>1</th>\n",
       "      <td>-0.028792</td>\n",
       "      <td>0.230083</td>\n",
       "      <td>1.023428</td>\n",
       "      <td>-0.260072</td>\n",
       "      <td>0.923835</td>\n",
       "      <td>0.746884</td>\n",
       "      <td>0.908101</td>\n",
       "      <td>0.733282</td>\n",
       "      <td>0.149699</td>\n",
       "    </tr>\n",
       "    <tr>\n",
       "      <th>2</th>\n",
       "      <td>0.390982</td>\n",
       "      <td>1.000938</td>\n",
       "      <td>1.951384</td>\n",
       "      <td>1.015752</td>\n",
       "      <td>1.586856</td>\n",
       "      <td>0.917226</td>\n",
       "      <td>0.432080</td>\n",
       "      <td>1.466565</td>\n",
       "      <td>0.511762</td>\n",
       "    </tr>\n",
       "    <tr>\n",
       "      <th>3</th>\n",
       "      <td>0.167102</td>\n",
       "      <td>0.069488</td>\n",
       "      <td>1.139423</td>\n",
       "      <td>0.505422</td>\n",
       "      <td>1.746896</td>\n",
       "      <td>0.990230</td>\n",
       "      <td>0.146468</td>\n",
       "      <td>0.488855</td>\n",
       "      <td>0.511762</td>\n",
       "    </tr>\n",
       "    <tr>\n",
       "      <th>4</th>\n",
       "      <td>-0.308642</td>\n",
       "      <td>-0.187464</td>\n",
       "      <td>-0.368506</td>\n",
       "      <td>-0.515236</td>\n",
       "      <td>0.580893</td>\n",
       "      <td>1.233576</td>\n",
       "      <td>0.051264</td>\n",
       "      <td>0.733282</td>\n",
       "      <td>0.149699</td>\n",
       "    </tr>\n",
       "  </tbody>\n",
       "</table>\n",
       "</div>"
      ],
      "text/plain": [
       "    hdlngth    skullw  totlngth     taill  footlgth  earconch       eye  \\\n",
       "0  0.418967  1.129414  0.443456 -0.515236  1.381091  1.549925  0.146468   \n",
       "1 -0.028792  0.230083  1.023428 -0.260072  0.923835  0.746884  0.908101   \n",
       "2  0.390982  1.000938  1.951384  1.015752  1.586856  0.917226  0.432080   \n",
       "3  0.167102  0.069488  1.139423  0.505422  1.746896  0.990230  0.146468   \n",
       "4 -0.308642 -0.187464 -0.368506 -0.515236  0.580893  1.233576  0.051264   \n",
       "\n",
       "      chest     belly  \n",
       "0  0.488855  1.235889  \n",
       "1  0.733282  0.149699  \n",
       "2  1.466565  0.511762  \n",
       "3  0.488855  0.511762  \n",
       "4  0.733282  0.149699  "
      ]
     },
     "execution_count": 8,
     "metadata": {},
     "output_type": "execute_result"
    }
   ],
   "source": [
    "# отбираем Х и у\n",
    "X = df_possum_sex.iloc[:, 1:]\n",
    "y = df_possum_sex['sex']\n",
    "# нормализуем данные\n",
    "X = (X - X.mean(axis=0)) / (X.std(axis=0, ddof=1))\n",
    "# Делим выборку на тренировочную и тестовую\n",
    "X_train, X_test, y_train, y_test = train_test_split(\n",
    "    X, y, train_size=0.7, random_state=777, stratify=y)\n",
    "X.head()"
   ]
  },
  {
   "cell_type": "code",
   "execution_count": 9,
   "id": "055ac6b3",
   "metadata": {},
   "outputs": [
    {
     "name": "stdout",
     "output_type": "stream",
     "text": [
      "Precision: 0.8235294117647058\n",
      "Recall: 0.7368421052631579\n",
      "F - мера 0.7777777777777778\n"
     ]
    }
   ],
   "source": [
    "logreg_model = LogisticRegression()\n",
    "logreg_model.fit(X_train, y_train)\n",
    "\n",
    "y_predicted = logreg_model.predict(X_test)\n",
    "print(f'Precision: {metrics.precision_score(y_test, y_predicted)}')\n",
    "print(f'Recall: {metrics.recall_score(y_test, y_predicted)}')\n",
    "print(f'F - мера {metrics.f1_score(y_test, y_predicted)}')"
   ]
  },
  {
   "cell_type": "code",
   "execution_count": 10,
   "id": "98499cb4",
   "metadata": {},
   "outputs": [
    {
     "name": "stdout",
     "output_type": "stream",
     "text": [
      "opt C = 0.01\n"
     ]
    }
   ],
   "source": [
    "logreg_model = LogisticRegression(penalty='l2')\n",
    "\n",
    "grid_cv = GridSearchCV(logreg_model, param_grid={\n",
    "                       'C': np.arange(0.01, 1, 0.01)}, cv=10, n_jobs=-1)\n",
    "grid_cv.fit(X_train, y_train)\n",
    "\n",
    "opt_C = grid_cv.best_estimator_.C\n",
    "print(f'opt C = {opt_C}')"
   ]
  },
  {
   "cell_type": "code",
   "execution_count": 11,
   "id": "8245eacd",
   "metadata": {},
   "outputs": [
    {
     "name": "stdout",
     "output_type": "stream",
     "text": [
      "Precision: 0.59375\n",
      "Recall: 1.0\n",
      "F - мера 0.7450980392156863\n"
     ]
    }
   ],
   "source": [
    "best_logreg_model = LogisticRegression(penalty='l2', C=opt_C)\n",
    "best_logreg_model.fit(X_train, y_train)\n",
    "\n",
    "y_predicted = best_logreg_model.predict(X_test)\n",
    "print(f'Precision: {metrics.precision_score(y_test, y_predicted)}')\n",
    "print(f'Recall: {metrics.recall_score(y_test, y_predicted)}')\n",
    "print(f'F - мера {metrics.f1_score(y_test, y_predicted)}')"
   ]
  },
  {
   "cell_type": "markdown",
   "id": "378964b0",
   "metadata": {},
   "source": [
    "## Определяем место ловли опоссума"
   ]
  },
  {
   "cell_type": "code",
   "execution_count": 12,
   "id": "c3aeb5ea",
   "metadata": {},
   "outputs": [
    {
     "data": {
      "text/html": [
       "<div>\n",
       "<style scoped>\n",
       "    .dataframe tbody tr th:only-of-type {\n",
       "        vertical-align: middle;\n",
       "    }\n",
       "\n",
       "    .dataframe tbody tr th {\n",
       "        vertical-align: top;\n",
       "    }\n",
       "\n",
       "    .dataframe thead th {\n",
       "        text-align: right;\n",
       "    }\n",
       "</style>\n",
       "<table border=\"1\" class=\"dataframe\">\n",
       "  <thead>\n",
       "    <tr style=\"text-align: right;\">\n",
       "      <th></th>\n",
       "      <th>Pop</th>\n",
       "      <th>sex</th>\n",
       "      <th>age</th>\n",
       "      <th>hdlngth</th>\n",
       "      <th>skullw</th>\n",
       "      <th>totlngth</th>\n",
       "      <th>taill</th>\n",
       "      <th>footlgth</th>\n",
       "      <th>earconch</th>\n",
       "      <th>eye</th>\n",
       "      <th>chest</th>\n",
       "      <th>belly</th>\n",
       "    </tr>\n",
       "  </thead>\n",
       "  <tbody>\n",
       "    <tr>\n",
       "      <th>0</th>\n",
       "      <td>1.117473</td>\n",
       "      <td>0.835548</td>\n",
       "      <td>2.203866</td>\n",
       "      <td>0.418967</td>\n",
       "      <td>1.129414</td>\n",
       "      <td>0.443456</td>\n",
       "      <td>-0.515236</td>\n",
       "      <td>1.381091</td>\n",
       "      <td>1.549925</td>\n",
       "      <td>0.146468</td>\n",
       "      <td>0.488855</td>\n",
       "      <td>1.235889</td>\n",
       "    </tr>\n",
       "    <tr>\n",
       "      <th>1</th>\n",
       "      <td>1.117473</td>\n",
       "      <td>-1.185312</td>\n",
       "      <td>1.146010</td>\n",
       "      <td>-0.028792</td>\n",
       "      <td>0.230083</td>\n",
       "      <td>1.023428</td>\n",
       "      <td>-0.260072</td>\n",
       "      <td>0.923835</td>\n",
       "      <td>0.746884</td>\n",
       "      <td>0.908101</td>\n",
       "      <td>0.733282</td>\n",
       "      <td>0.149699</td>\n",
       "    </tr>\n",
       "    <tr>\n",
       "      <th>2</th>\n",
       "      <td>1.117473</td>\n",
       "      <td>-1.185312</td>\n",
       "      <td>1.146010</td>\n",
       "      <td>0.390982</td>\n",
       "      <td>1.000938</td>\n",
       "      <td>1.951384</td>\n",
       "      <td>1.015752</td>\n",
       "      <td>1.586856</td>\n",
       "      <td>0.917226</td>\n",
       "      <td>0.432080</td>\n",
       "      <td>1.466565</td>\n",
       "      <td>0.511762</td>\n",
       "    </tr>\n",
       "    <tr>\n",
       "      <th>3</th>\n",
       "      <td>1.117473</td>\n",
       "      <td>-1.185312</td>\n",
       "      <td>1.146010</td>\n",
       "      <td>0.167102</td>\n",
       "      <td>0.069488</td>\n",
       "      <td>1.139423</td>\n",
       "      <td>0.505422</td>\n",
       "      <td>1.746896</td>\n",
       "      <td>0.990230</td>\n",
       "      <td>0.146468</td>\n",
       "      <td>0.488855</td>\n",
       "      <td>0.511762</td>\n",
       "    </tr>\n",
       "    <tr>\n",
       "      <th>4</th>\n",
       "      <td>1.117473</td>\n",
       "      <td>-1.185312</td>\n",
       "      <td>-0.969701</td>\n",
       "      <td>-0.308642</td>\n",
       "      <td>-0.187464</td>\n",
       "      <td>-0.368506</td>\n",
       "      <td>-0.515236</td>\n",
       "      <td>0.580893</td>\n",
       "      <td>1.233576</td>\n",
       "      <td>0.051264</td>\n",
       "      <td>0.733282</td>\n",
       "      <td>0.149699</td>\n",
       "    </tr>\n",
       "  </tbody>\n",
       "</table>\n",
       "</div>"
      ],
      "text/plain": [
       "        Pop       sex       age   hdlngth    skullw  totlngth     taill  \\\n",
       "0  1.117473  0.835548  2.203866  0.418967  1.129414  0.443456 -0.515236   \n",
       "1  1.117473 -1.185312  1.146010 -0.028792  0.230083  1.023428 -0.260072   \n",
       "2  1.117473 -1.185312  1.146010  0.390982  1.000938  1.951384  1.015752   \n",
       "3  1.117473 -1.185312  1.146010  0.167102  0.069488  1.139423  0.505422   \n",
       "4  1.117473 -1.185312 -0.969701 -0.308642 -0.187464 -0.368506 -0.515236   \n",
       "\n",
       "   footlgth  earconch       eye     chest     belly  \n",
       "0  1.381091  1.549925  0.146468  0.488855  1.235889  \n",
       "1  0.923835  0.746884  0.908101  0.733282  0.149699  \n",
       "2  1.586856  0.917226  0.432080  1.466565  0.511762  \n",
       "3  1.746896  0.990230  0.146468  0.488855  0.511762  \n",
       "4  0.580893  1.233576  0.051264  0.733282  0.149699  "
      ]
     },
     "execution_count": 12,
     "metadata": {},
     "output_type": "execute_result"
    }
   ],
   "source": [
    "# удаляем столбцы, которые не нужны для дальнейшего анализа\n",
    "df_possum_site = df_possum.drop(['case'], axis=1)\n",
    "X = df_possum_site.iloc[:, 1:]\n",
    "y = df_possum_site['site']\n",
    "# нормализуем данные\n",
    "X = (X - X.mean(axis=0)) / (X.std(axis=0, ddof=1))\n",
    "X.head()"
   ]
  },
  {
   "cell_type": "code",
   "execution_count": 13,
   "id": "552d516d",
   "metadata": {},
   "outputs": [],
   "source": [
    "# Делим выборку на тренировочную и тестовую\n",
    "X_train, X_test, y_train, y_test = train_test_split(\n",
    "    X, y, train_size=0.7, random_state=777, stratify=y)"
   ]
  },
  {
   "cell_type": "code",
   "execution_count": 14,
   "id": "603487d1",
   "metadata": {},
   "outputs": [
    {
     "name": "stdout",
     "output_type": "stream",
     "text": [
      "opt C = 0.14\n",
      "F - мера 0.6985119047619047\n"
     ]
    }
   ],
   "source": [
    "logreg_model = LogisticRegression(penalty='l2')\n",
    "\n",
    "grid_cv = GridSearchCV(logreg_model, param_grid={\n",
    "                       'C': np.arange(0.01, 1, 0.01)}, cv=5, n_jobs=-1)\n",
    "grid_cv.fit(X_train, y_train)\n",
    "\n",
    "opt_C = grid_cv.best_estimator_.C\n",
    "print(f'opt C = {opt_C}')\n",
    "\n",
    "best_logreg_model = LogisticRegression(penalty='l2', C=opt_C)\n",
    "best_logreg_model.fit(X_train, y_train)\n",
    "\n",
    "y_predicted = best_logreg_model.predict(X_test)\n",
    "print(f\"F - мера {metrics.f1_score(y_test, y_predicted, average='weighted')}\")"
   ]
  },
  {
   "cell_type": "code",
   "execution_count": 15,
   "id": "e5ad0af5",
   "metadata": {},
   "outputs": [
    {
     "data": {
      "text/plain": [
       "<AxesSubplot:xlabel='site', ylabel='Count'>"
      ]
     },
     "execution_count": 15,
     "metadata": {},
     "output_type": "execute_result"
    },
    {
     "data": {
      "image/png": "[encoded data removed]",
      "text/plain": [
       "<Figure size 432x288 with 1 Axes>"
      ]
     },
     "metadata": {
      "needs_background": "light"
     },
     "output_type": "display_data"
    }
   ],
   "source": [
    "import seaborn as sns\n",
    "\n",
    "sns.histplot(data=df_possum, x=\"site\", discrete=True, hue=\"site\")"
   ]
  },
  {
   "cell_type": "markdown",
   "id": "fd8c7688",
   "metadata": {},
   "source": [
    "## Определяем популяцию опоссума"
   ]
  },
  {
   "cell_type": "code",
   "execution_count": 16,
   "id": "4d95e3dd",
   "metadata": {},
   "outputs": [
    {
     "name": "stdout",
     "output_type": "stream",
     "text": [
      "opt C = 0.08\n",
      "F - мера 0.962962962962963\n"
     ]
    }
   ],
   "source": [
    "# удаляем столбцы, которые не нужны для дальнейшего анализа\n",
    "df_possum_site = df_possum.drop(['case', 'site'], axis=1)\n",
    "X = df_possum_site.drop(['Pop'], axis=1)\n",
    "y = df_possum_site['Pop']\n",
    "# нормализуем данные\n",
    "X = (X - X.mean(axis=0)) / (X.std(axis=0, ddof=1))\n",
    "\n",
    "X_train, X_test, y_train, y_test = train_test_split(\n",
    "    X, y, train_size=0.7, random_state=777, stratify=y)\n",
    "\n",
    "logreg_model = LogisticRegression(penalty='l2')\n",
    "\n",
    "grid_cv = GridSearchCV(logreg_model, param_grid={\n",
    "                       'C': np.arange(0.01, 1, 0.01)}, cv=10, n_jobs=-1)\n",
    "grid_cv.fit(X_train, y_train)\n",
    "\n",
    "opt_C = grid_cv.best_estimator_.C\n",
    "print(f'opt C = {opt_C}')\n",
    "\n",
    "best_logreg_model = LogisticRegression(penalty='l2', C=opt_C)\n",
    "best_logreg_model.fit(X_train, y_train)\n",
    "\n",
    "y_predicted = best_logreg_model.predict(X_test)\n",
    "print(f\"F - мера {metrics.f1_score(y_test, y_predicted)}\")"
   ]
  },
  {
   "cell_type": "code",
   "execution_count": 17,
   "id": "db4b8afe",
   "metadata": {},
   "outputs": [
    {
     "data": {
      "text/plain": [
       "<AxesSubplot:xlabel='Pop', ylabel='Count'>"
      ]
     },
     "execution_count": 17,
     "metadata": {},
     "output_type": "execute_result"
    },
    {
     "data": {
      "image/png": "[encoded data removed]",
      "text/plain": [
       "<Figure size 432x288 with 1 Axes>"
      ]
     },
     "metadata": {
      "needs_background": "light"
     },
     "output_type": "display_data"
    }
   ],
   "source": [
    "sns.histplot(data=df_possum, x=\"Pop\", discrete=True, hue=\"Pop\")"
   ]
  }
 ],
 "metadata": {
  "kernelspec": {
   "display_name": "Python 3 (ipykernel)",
   "language": "python",
   "name": "python3"
  },
  "language_info": {
   "codemirror_mode": {
    "name": "ipython",
    "version": 3
   },
   "file_extension": ".py",
   "mimetype": "text/x-python",
   "name": "python",
   "nbconvert_exporter": "python",
   "pygments_lexer": "ipython3",
   "version": "3.9.7"
  },
  "toc": {
   "base_numbering": 1,
   "nav_menu": {},
   "number_sections": true,
   "sideBar": true,
   "skip_h1_title": false,
   "title_cell": "Table of Contents",
   "title_sidebar": "Contents",
   "toc_cell": false,
   "toc_position": {},
   "toc_section_display": true,
   "toc_window_display": false
  }
 },
 "nbformat": 4,
 "nbformat_minor": 5
}
