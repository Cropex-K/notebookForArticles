{
 "cells": [
  {
   "cell_type": "code",
   "execution_count": 6,
   "id": "0a04db0a",
   "metadata": {
    "ExecuteTime": {
     "end_time": "2023-03-27T08:29:28.894443Z",
     "start_time": "2023-03-27T08:29:28.889936Z"
    }
   },
   "outputs": [],
   "source": [
    "import ipywidgets\n",
    "import pandas as pd\n",
    "import numpy as np\n",
    "from IPython.display import display, clear_output\n",
    "import matplotlib.pyplot as plt"
   ]
  },
  {
   "cell_type": "code",
   "execution_count": 7,
   "id": "50c0c3ab",
   "metadata": {
    "ExecuteTime": {
     "end_time": "2023-03-27T07:10:04.470953Z",
     "start_time": "2023-03-27T07:10:04.456912Z"
    }
   },
   "outputs": [],
   "source": [
    "# функция для генерации случайного датасета\n",
    "def random_generation(count_lines):\n",
    "    df = pd.DataFrame(data=[np.round(np.random.random(5), 2) for i in range(count_lines)],\n",
    "                      columns=['math','chemistry','physics','biology','literature'])\n",
    "    return df"
   ]
  },
  {
   "cell_type": "code",
   "execution_count": 8,
   "id": "82d27e68",
   "metadata": {
    "ExecuteTime": {
     "end_time": "2023-03-27T09:58:19.069355Z",
     "start_time": "2023-03-27T09:58:19.060193Z"
    }
   },
   "outputs": [],
   "source": [
    "# функция для создания вкладки визуализации\n",
    "def tab_visualisation(df, output):\n",
    "    dropdown = ipywidgets.Dropdown(options=['math','chemistry','physics','biology','literature'],\n",
    "                            value='math',\n",
    "                            description='Columns:',\n",
    "                            disabled=False,)\n",
    "    select_columns = ipywidgets.Button(description='Нарисовать гистограмму',\n",
    "                                       button_style = 'success',\n",
    "                                       layout = ipywidgets.Layout(width='700px', height='40px'))\n",
    "\n",
    "    # функция для отображения гистсограммы по выбранному столбцу\n",
    "    def btn_on_click_select(select_columns):\n",
    "\n",
    "        fig, ax = plt.subplots()\n",
    "        ax.hist(df[dropdown.value])\n",
    "        display(plt.show())\n",
    "        \n",
    "    select_columns.on_click(btn_on_click_select)\n",
    "    \n",
    "    return ipywidgets.VBox([dropdown, select_columns])    "
   ]
  },
  {
   "cell_type": "code",
   "execution_count": 9,
   "id": "a729c077",
   "metadata": {
    "ExecuteTime": {
     "end_time": "2023-03-27T09:58:19.238156Z",
     "start_time": "2023-03-27T09:58:19.223680Z"
    }
   },
   "outputs": [],
   "source": [
    "# главная функция для вызова пользователем\n",
    "def menu():\n",
    "    \n",
    "    output = ipywidgets.Output()\n",
    "    df = None\n",
    "    \n",
    "    button_style = 'success'\n",
    "    layout = ipywidgets.Layout(width='700px', height='40px')\n",
    "    style = {'description_width': '150px'}\n",
    "    \n",
    "    load_button = ipywidgets.Button(description='Загрузить данные из файла',\n",
    "                                    button_style=button_style, layout=layout)\n",
    "    generate_button = ipywidgets.Button(description='Сгенерировать данные',\n",
    "                                        button_style=button_style, layout=layout)\n",
    "    \n",
    "    path_text = ipywidgets.Text(description='Путь до файла', \n",
    "                                value='students_knowledge.txt', layout=layout, style=style)\n",
    "    count_samples = ipywidgets.IntText(description='Количество строк', value=100, layout=layout, style=style)\n",
    "\n",
    "    v_box_input = ipywidgets.VBox([path_text, load_button,\n",
    "                                   count_samples, generate_button])\n",
    "\n",
    "    # функция для загруки фацла по прееданному пути\n",
    "    def btn_on_click_load(load_button):\n",
    "        \n",
    "        df = pd.read_csv(v_box_input.children[0].value, sep=';')\n",
    "        display(df.head(), output)\n",
    "        \n",
    "        children_default_main[1] = tab_visualisation(df, output)\n",
    "        tab_main.children = children_default_main\n",
    "        \n",
    "    # функция для генерацции случайного датасета    \n",
    "    def btn_on_click_generate(generate_button):\n",
    "        \n",
    "        df = random_generation(v_box_input.children[2].value)\n",
    "        display(df.head(), output)\n",
    "        children_default_main[1] = tab_visualisation(df, output)\n",
    "        tab_main.children = children_default_main\n",
    "        \n",
    "        \n",
    "    load_button.on_click(btn_on_click_load)\n",
    "    generate_button.on_click(btn_on_click_generate)\n",
    "        \n",
    "    #main tab\n",
    "    tab_main = ipywidgets.Tab()\n",
    "    children_default_main = [v_box_input,\n",
    "                             ipywidgets.Label('Нет данных')]\n",
    "    \n",
    "    tab_main.children = children_default_main\n",
    "    tab_main.set_title(0, 'Загрузка данных')\n",
    "    tab_main.set_title(1, 'Визуализация')\n",
    "\n",
    "    display(tab_main, output)\n",
    "    "
   ]
  },
  {
   "cell_type": "code",
   "execution_count": 10,
   "id": "d8cbda80",
   "metadata": {
    "ExecuteTime": {
     "end_time": "2023-03-27T09:58:19.652688Z",
     "start_time": "2023-03-27T09:58:19.611522Z"
    }
   },
   "outputs": [
    {
     "data": {
      "application/vnd.jupyter.widget-view+json": {
       "model_id": "804a25a693df4fc8bdb4dfdab7485a9e",
       "version_major": 2,
       "version_minor": 0
      },
      "text/plain": [
       "Tab(children=(VBox(children=(Text(value='students_knowledge.txt', description='Путь до файла', layout=Layout(h…"
      ]
     },
     "metadata": {},
     "output_type": "display_data"
    },
    {
     "data": {
      "application/vnd.jupyter.widget-view+json": {
       "model_id": "ecf138af371b44d3ab904bda75fbc7f0",
       "version_major": 2,
       "version_minor": 0
      },
      "text/plain": [
       "Output()"
      ]
     },
     "metadata": {},
     "output_type": "display_data"
    },
    {
     "data": {
      "text/html": [
       "<div>\n",
       "<style scoped>\n",
       "    .dataframe tbody tr th:only-of-type {\n",
       "        vertical-align: middle;\n",
       "    }\n",
       "\n",
       "    .dataframe tbody tr th {\n",
       "        vertical-align: top;\n",
       "    }\n",
       "\n",
       "    .dataframe thead th {\n",
       "        text-align: right;\n",
       "    }\n",
       "</style>\n",
       "<table border=\"1\" class=\"dataframe\">\n",
       "  <thead>\n",
       "    <tr style=\"text-align: right;\">\n",
       "      <th></th>\n",
       "      <th>math</th>\n",
       "      <th>chemistry</th>\n",
       "      <th>physics</th>\n",
       "      <th>biology</th>\n",
       "      <th>literature</th>\n",
       "    </tr>\n",
       "  </thead>\n",
       "  <tbody>\n",
       "    <tr>\n",
       "      <th>0</th>\n",
       "      <td>0.00</td>\n",
       "      <td>0.00</td>\n",
       "      <td>0.00</td>\n",
       "      <td>0.00</td>\n",
       "      <td>0.00</td>\n",
       "    </tr>\n",
       "    <tr>\n",
       "      <th>1</th>\n",
       "      <td>0.08</td>\n",
       "      <td>0.08</td>\n",
       "      <td>0.10</td>\n",
       "      <td>0.24</td>\n",
       "      <td>0.90</td>\n",
       "    </tr>\n",
       "    <tr>\n",
       "      <th>2</th>\n",
       "      <td>0.06</td>\n",
       "      <td>0.06</td>\n",
       "      <td>0.05</td>\n",
       "      <td>0.25</td>\n",
       "      <td>0.33</td>\n",
       "    </tr>\n",
       "    <tr>\n",
       "      <th>3</th>\n",
       "      <td>0.10</td>\n",
       "      <td>0.10</td>\n",
       "      <td>0.15</td>\n",
       "      <td>0.65</td>\n",
       "      <td>0.30</td>\n",
       "    </tr>\n",
       "    <tr>\n",
       "      <th>4</th>\n",
       "      <td>0.08</td>\n",
       "      <td>0.08</td>\n",
       "      <td>0.08</td>\n",
       "      <td>0.98</td>\n",
       "      <td>0.24</td>\n",
       "    </tr>\n",
       "  </tbody>\n",
       "</table>\n",
       "</div>"
      ],
      "text/plain": [
       "   math  chemistry  physics  biology  literature\n",
       "0  0.00       0.00     0.00     0.00        0.00\n",
       "1  0.08       0.08     0.10     0.24        0.90\n",
       "2  0.06       0.06     0.05     0.25        0.33\n",
       "3  0.10       0.10     0.15     0.65        0.30\n",
       "4  0.08       0.08     0.08     0.98        0.24"
      ]
     },
     "metadata": {},
     "output_type": "display_data"
    },
    {
     "data": {
      "application/vnd.jupyter.widget-view+json": {
       "model_id": "ecf138af371b44d3ab904bda75fbc7f0",
       "version_major": 2,
       "version_minor": 0
      },
      "text/plain": [
       "Output()"
      ]
     },
     "metadata": {},
     "output_type": "display_data"
    },
    {
     "data": {
      "image/png": "[encoded data removed]",
      "text/plain": [
       "<Figure size 432x288 with 1 Axes>"
      ]
     },
     "metadata": {
      "needs_background": "light"
     },
     "output_type": "display_data"
    },
    {
     "data": {
      "text/plain": [
       "None"
      ]
     },
     "metadata": {},
     "output_type": "display_data"
    }
   ],
   "source": [
    "menu()"
   ]
  },
  {
   "cell_type": "code",
   "execution_count": null,
   "id": "50ad13ce",
   "metadata": {},
   "outputs": [],
   "source": []
  }
 ],
 "metadata": {
  "kernelspec": {
   "display_name": "Python 3 (ipykernel)",
   "language": "python",
   "name": "python3"
  },
  "language_info": {
   "codemirror_mode": {
    "name": "ipython",
    "version": 3
   },
   "file_extension": ".py",
   "mimetype": "text/x-python",
   "name": "python",
   "nbconvert_exporter": "python",
   "pygments_lexer": "ipython3",
   "version": "3.9.7"
  },
  "toc": {
   "base_numbering": 1,
   "nav_menu": {},
   "number_sections": true,
   "sideBar": false,
   "skip_h1_title": false,
   "title_cell": "Table of Contents",
   "title_sidebar": "Contents",
   "toc_cell": false,
   "toc_position": {},
   "toc_section_display": true,
   "toc_window_display": false
  },
  "varInspector": {
   "cols": {
    "lenName": 16,
    "lenType": 16,
    "lenVar": 40
   },
   "kernels_config": {
    "python": {
     "delete_cmd_postfix": "",
     "delete_cmd_prefix": "del ",
     "library": "var_list.py",
     "varRefreshCmd": "print(var_dic_list())"
    },
    "r": {
     "delete_cmd_postfix": ") ",
     "delete_cmd_prefix": "rm(",
     "library": "var_list.r",
     "varRefreshCmd": "cat(var_dic_list()) "
    }
   },
   "types_to_exclude": [
    "module",
    "function",
    "builtin_function_or_method",
    "instance",
    "_Feature"
   ],
   "window_display": false
  }
 },
 "nbformat": 4,
 "nbformat_minor": 5
}
